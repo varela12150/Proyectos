{
 "cells": [
  {
   "cell_type": "code",
   "execution_count": 2,
   "metadata": {},
   "outputs": [],
   "source": [
    "import pandas as pd\n",
    "from numpy import nan\n",
    "path_file = \"39130001272.xlsx\"\n",
    "hoja = \"CLTB_ACCOUNT_COMP_BAL_BREAKUP\"\n",
    "df = pd.read_excel(path_file,sheet_name=hoja)"
   ]
  },
  {
   "cell_type": "code",
   "execution_count": 3,
   "metadata": {},
   "outputs": [
    {
     "output_type": "stream",
     "name": "stdout",
     "text": ", '39130001272'\n, '39130001272'\n, 39130001272\n, to_date('02-04-2019', 'dd-mm-yyyy')\n, to_date('02-04-2019', 'dd-mm-yyyy')\n"
    }
   ],
   "source": [
    "a = ', '+'\\''+str(df.ACCOUNT_NUMBER[h])+'\\''  \n",
    "b = ', '+(\"null\" if str(df.ACCOUNT_NUMBER[h]) == str(nan) else '\\''+str(df.ACCOUNT_NUMBER[h])+'\\'')\n",
    "c = ', '+(\"null\" if str(df.ACCOUNT_NUMBER[h]) == str(nan) else str(df.ACCOUNT_NUMBER[h]))\n",
    "d = ', '+'to_date(\\''+str(\"{:02d}\".format(int(df.CREATION_DATE[h].day)))+'-'+str(\"{:02d}\".format(int(df.CREATION_DATE[h].month)))+'-'+str(\"{:04d}\".format(int(df.CREATION_DATE[h].year)))+'\\', \\'dd-mm-yyyy\\')'\n",
    "e = ', '+(\"null\" if str(df.CREATION_DATE[h]) == 'NaT' else 'to_date(\\''+str(\"{:02d}\".format(int(df.CREATION_DATE[h].day)))+'-'+str(\"{:02d}\".format(int(df.CREATION_DATE[h].month)))+'-'+str(\"{:04d}\".format(int(df.CREATION_DATE[h].year)))+'\\', \\'dd-mm-yyyy\\')')\n",
    "\n",
    "\n",
    "print(a)\n",
    "print(b)\n",
    "print(c)\n",
    "print(d)\n",
    "print(e)\n",
    "\n"
   ]
  },
  {
   "cell_type": "code",
   "execution_count": 4,
   "metadata": {},
   "outputs": [
    {
     "output_type": "stream",
     "name": "stdout",
     "text": "values ('39130001272', '391', 'AA_CGADD', '16370561', 'R', 0.0, 0.0, to_date('02-04-2019', 'dd-mm-yyyy'), 'NORM', 1, null, 'N', 'AL');\n"
    }
   ],
   "source": [
    "CACB = 'values (\\''+str(df2.ACCOUNT_NUMBER[c])+'\\''+', '+'\\''+str(df2.BRANCH_CODE[c])+'\\''+', '+'\\''+str(df2.COMPONENT[c])+'\\''+', '+'\\''+str(df2.GL_CODE[c])+'\\''+', '+'\\''+str(df2.GL_TYPE[c])+'\\''+', '+(\"null\" if str(df2.BALANCE[c]) == str(nan) else str(df2.BALANCE[c]))+', '+(\"null\" if str(df2.LCY_BALANCE[c]) == str(nan) else str(df2.LCY_BALANCE[c]))+', '+'to_date(\\''+str(\"{:02d}\".format(int(df2.CREATION_DATE[c].day)))+'-'+str(\"{:02d}\".format(int(df2.CREATION_DATE[c].month)))+'-'+str(\"{:04d}\".format(int(df2.CREATION_DATE[c].year)))+'\\', \\'dd-mm-yyyy\\')'+ ', '+'\\''+str(df2.STATUS_CODE[c])+'\\''+', '+(\"null\" if str(df2.SEVERITY_LEVEL[c]) == str(nan) else str(df2.SEVERITY_LEVEL[c]))+', '+(\"null\" if str(df2.CONT_OFFSET_GL[c]) == str(nan) else str(df2.CONT_OFFSET_GL[c]))+', '+'\\''+str(df2.BALANCE_FLAG[c])+'\\''+', '+'\\''+str(df2.GAAP_INDICATOR[c])+'\\''+');' \n",
    "\n",
    "print (CACB)\n"
   ]
  },
  {
   "cell_type": "code",
   "execution_count": 20,
   "metadata": {},
   "outputs": [
    {
     "output_type": "stream",
     "name": "stdout",
     "text": "insert into admfca.cltb_account_comp_bal_breakup (ACCOUNT_NUMBER, BRANCH_CODE, COMPONENT, GL_CODE, GL_TYPE, BALANCE, LCY_BALANCE, CREATION_DATE, STATUS_CODE, SEVERITY_LEVEL, CONT_OFFSET_GL, BALANCE_FLAG, GAAP_INDICATOR)\nvalues ('39130001272', '391', 'AA_CGADD', '16370561', 'R', 0.0, 0.0, to_date('02-04-2019', 'dd-mm-yyyy'), 'NORM', 1, null, 'N', 'AL');\ninsert into admfca.cltb_account_comp_bal_breakup (ACCOUNT_NUMBER, BRANCH_CODE, COMPONENT, GL_CODE, GL_TYPE, BALANCE, LCY_BALANCE, CREATION_DATE, STATUS_CODE, SEVERITY_LEVEL, CONT_OFFSET_GL, BALANCE_FLAG, GAAP_INDICATOR)\nvalues ('39130001272', '391', 'AA_CMGJT', '16372061', 'R', 150200.0, 150200.0, to_date('17-01-2020', 'dd-mm-yyyy'), 'DCTG', 4, null, 'N', 'AL');\ninsert into admfca.cltb_account_comp_bal_breakup (ACCOUNT_NUMBER, BRANCH_CODE, COMPONENT, GL_CODE, GL_TYPE, BALANCE, LCY_BALANCE, CREATION_DATE, STATUS_CODE, SEVERITY_LEVEL, CONT_OFFSET_GL, BALANCE_FLAG, GAAP_INDICATOR)\nvalues ('39130001272', '391', 'AA_CMHNT', '16372061', 'R', 0.0, 0.0, to_date('20-08-2019', 'dd-mm-yyyy'), 'DCTG', 4, null, 'N', 'AL');\ninsert into admfca.cltb_account_comp_bal_breakup (ACCOUNT_NUMBER, BRANCH_CODE, COMPONENT, GL_CODE, GL_TYPE, BALANCE, LCY_BALANCE, CREATION_DATE, STATUS_CODE, SEVERITY_LEVEL, CONT_OFFSET_GL, BALANCE_FLAG, GAAP_INDICATOR)\nvalues ('39130001272', '391', 'MAIN_INT', '16051861', 'R', 0.0, 0.0, to_date('02-04-2019', 'dd-mm-yyyy'), 'NORM', 1, 41020381.0, 'N', 'AL');\ninsert into admfca.cltb_account_comp_bal_breakup (ACCOUNT_NUMBER, BRANCH_CODE, COMPONENT, GL_CODE, GL_TYPE, BALANCE, LCY_BALANCE, CREATION_DATE, STATUS_CODE, SEVERITY_LEVEL, CONT_OFFSET_GL, BALANCE_FLAG, GAAP_INDICATOR)\nvalues ('39130001272', '391', 'MAIN_INT', '16052261', 'R', 0.0, 0.0, to_date('16-08-2019', 'dd-mm-yyyy'), 'BCXC', 2, null, 'N', 'AL');\ninsert into admfca.cltb_account_comp_bal_breakup (ACCOUNT_NUMBER, BRANCH_CODE, COMPONENT, GL_CODE, GL_TYPE, BALANCE, LCY_BALANCE, CREATION_DATE, STATUS_CODE, SEVERITY_LEVEL, CONT_OFFSET_GL, BALANCE_FLAG, GAAP_INDICATOR)\nvalues ('39130001272', '391', 'MAIN_INT', '16052261', 'R', 0.0, 0.0, to_date('20-09-2019', 'dd-mm-yyyy'), 'BCTG', 8, null, 'N', 'AL');\ninsert into admfca.cltb_account_comp_bal_breakup (ACCOUNT_NUMBER, BRANCH_CODE, COMPONENT, GL_CODE, GL_TYPE, BALANCE, LCY_BALANCE, CREATION_DATE, STATUS_CODE, SEVERITY_LEVEL, CONT_OFFSET_GL, BALANCE_FLAG, GAAP_INDICATOR)\nvalues ('39130001272', '391', 'MAIN_INT', '16052461', 'R', 0.0, 0.0, to_date('15-09-2019', 'dd-mm-yyyy'), 'CCTG', 3, null, 'N', 'AL');\ninsert into admfca.cltb_account_comp_bal_breakup (ACCOUNT_NUMBER, BRANCH_CODE, COMPONENT, GL_CODE, GL_TYPE, BALANCE, LCY_BALANCE, CREATION_DATE, STATUS_CODE, SEVERITY_LEVEL, CONT_OFFSET_GL, BALANCE_FLAG, GAAP_INDICATOR)\nvalues ('39130001272', '391', 'MAIN_INT', '16052661', 'R', 0.0, 0.0, to_date('16-12-2019', 'dd-mm-yyyy'), 'DCTG', 4, null, 'N', 'AL');\ninsert into admfca.cltb_account_comp_bal_breakup (ACCOUNT_NUMBER, BRANCH_CODE, COMPONENT, GL_CODE, GL_TYPE, BALANCE, LCY_BALANCE, CREATION_DATE, STATUS_CODE, SEVERITY_LEVEL, CONT_OFFSET_GL, BALANCE_FLAG, GAAP_INDICATOR)\nvalues ('39130001272', '391', 'MAIN_INT', '64303261', 'C', 0.0, 0.0, to_date('20-09-2019', 'dd-mm-yyyy'), 'BCTG', 8, 63301061.0, 'S', 'AL');\ninsert into admfca.cltb_account_comp_bal_breakup (ACCOUNT_NUMBER, BRANCH_CODE, COMPONENT, GL_CODE, GL_TYPE, BALANCE, LCY_BALANCE, CREATION_DATE, STATUS_CODE, SEVERITY_LEVEL, CONT_OFFSET_GL, BALANCE_FLAG, GAAP_INDICATOR)\nvalues ('39130001272', '391', 'MAIN_INT', '64303461', 'C', 0.0, 0.0, to_date('15-09-2019', 'dd-mm-yyyy'), 'CCTG', 3, 63301061.0, 'S', 'AL');\ninsert into admfca.cltb_account_comp_bal_breakup (ACCOUNT_NUMBER, BRANCH_CODE, COMPONENT, GL_CODE, GL_TYPE, BALANCE, LCY_BALANCE, CREATION_DATE, STATUS_CODE, SEVERITY_LEVEL, CONT_OFFSET_GL, BALANCE_FLAG, GAAP_INDICATOR)\nvalues ('39130001272', '391', 'MAIN_INT', '64303661', 'C', 2460008.71, 2460008.71, to_date('16-12-2019', 'dd-mm-yyyy'), 'DCTG', 4, 63301061.0, 'S', 'AL');\ninsert into admfca.cltb_account_comp_bal_breakup (ACCOUNT_NUMBER, BRANCH_CODE, COMPONENT, GL_CODE, GL_TYPE, BALANCE, LCY_BALANCE, CREATION_DATE, STATUS_CODE, SEVERITY_LEVEL, CONT_OFFSET_GL, BALANCE_FLAG, GAAP_INDICATOR)\nvalues ('39130001272', '391', 'MORA_COMP', '16051861', 'R', 0.0, 0.0, to_date('17-05-2019', 'dd-mm-yyyy'), 'NORM', 1, 41024181.0, 'N', 'AL');\ninsert into admfca.cltb_account_comp_bal_breakup (ACCOUNT_NUMBER, BRANCH_CODE, COMPONENT, GL_CODE, GL_TYPE, BALANCE, LCY_BALANCE, CREATION_DATE, STATUS_CODE, SEVERITY_LEVEL, CONT_OFFSET_GL, BALANCE_FLAG, GAAP_INDICATOR)\nvalues ('39130001272', '391', 'MORA_COMP', '16052261', 'R', 0.0, 0.0, to_date('16-08-2019', 'dd-mm-yyyy'), 'BCXC', 2, null, 'N', 'AL');\ninsert into admfca.cltb_account_comp_bal_breakup (ACCOUNT_NUMBER, BRANCH_CODE, COMPONENT, GL_CODE, GL_TYPE, BALANCE, LCY_BALANCE, CREATION_DATE, STATUS_CODE, SEVERITY_LEVEL, CONT_OFFSET_GL, BALANCE_FLAG, GAAP_INDICATOR)\nvalues ('39130001272', '391', 'MORA_COMP', '16052261', 'R', 0.0, 0.0, to_date('20-09-2019', 'dd-mm-yyyy'), 'BCTG', 8, null, 'N', 'AL');\ninsert into admfca.cltb_account_comp_bal_breakup (ACCOUNT_NUMBER, BRANCH_CODE, COMPONENT, GL_CODE, GL_TYPE, BALANCE, LCY_BALANCE, CREATION_DATE, STATUS_CODE, SEVERITY_LEVEL, CONT_OFFSET_GL, BALANCE_FLAG, GAAP_INDICATOR)\nvalues ('39130001272', '391', 'MORA_COMP', '16052461', 'R', 0.0, 0.0, to_date('15-09-2019', 'dd-mm-yyyy'), 'CCTG', 3, null, 'N', 'AL');\ninsert into admfca.cltb_account_comp_bal_breakup (ACCOUNT_NUMBER, BRANCH_CODE, COMPONENT, GL_CODE, GL_TYPE, BALANCE, LCY_BALANCE, CREATION_DATE, STATUS_CODE, SEVERITY_LEVEL, CONT_OFFSET_GL, BALANCE_FLAG, GAAP_INDICATOR)\nvalues ('39130001272', '391', 'MORA_COMP', '64303261', 'C', 0.0, 0.0, to_date('20-09-2019', 'dd-mm-yyyy'), 'BCTG', 8, 63301061.0, 'S', 'AL');\ninsert into admfca.cltb_account_comp_bal_breakup (ACCOUNT_NUMBER, BRANCH_CODE, COMPONENT, GL_CODE, GL_TYPE, BALANCE, LCY_BALANCE, CREATION_DATE, STATUS_CODE, SEVERITY_LEVEL, CONT_OFFSET_GL, BALANCE_FLAG, GAAP_INDICATOR)\nvalues ('39130001272', '391', 'MORA_COMP', '64303461', 'C', 0.0, 0.0, to_date('15-09-2019', 'dd-mm-yyyy'), 'CCTG', 3, 63301061.0, 'S', 'AL');\ninsert into admfca.cltb_account_comp_bal_breakup (ACCOUNT_NUMBER, BRANCH_CODE, COMPONENT, GL_CODE, GL_TYPE, BALANCE, LCY_BALANCE, CREATION_DATE, STATUS_CODE, SEVERITY_LEVEL, CONT_OFFSET_GL, BALANCE_FLAG, GAAP_INDICATOR)\nvalues ('39130001272', '391', 'MORA_COMP', '64303661', 'C', 244923.94, 244923.94, to_date('16-12-2019', 'dd-mm-yyyy'), 'DCTG', 4, 63301061.0, 'S', 'AL');\ninsert into admfca.cltb_account_comp_bal_breakup (ACCOUNT_NUMBER, BRANCH_CODE, COMPONENT, GL_CODE, GL_TYPE, BALANCE, LCY_BALANCE, CREATION_DATE, STATUS_CODE, SEVERITY_LEVEL, CONT_OFFSET_GL, BALANCE_FLAG, GAAP_INDICATOR)\nvalues ('39130001272', '391', 'PRINCIPAL', '14111561', 'R', 0.0, 0.0, to_date('02-04-2019', 'dd-mm-yyyy'), 'NORM', 1, null, 'N', 'AL');\ninsert into admfca.cltb_account_comp_bal_breakup (ACCOUNT_NUMBER, BRANCH_CODE, COMPONENT, GL_CODE, GL_TYPE, BALANCE, LCY_BALANCE, CREATION_DATE, STATUS_CODE, SEVERITY_LEVEL, CONT_OFFSET_GL, BALANCE_FLAG, GAAP_INDICATOR)\nvalues ('39130001272', '391', 'PRINCIPAL', '14191561', 'R', 0.0, 0.0, to_date('16-08-2019', 'dd-mm-yyyy'), 'BCXC', 2, null, 'N', 'AL');\ninsert into admfca.cltb_account_comp_bal_breakup (ACCOUNT_NUMBER, BRANCH_CODE, COMPONENT, GL_CODE, GL_TYPE, BALANCE, LCY_BALANCE, CREATION_DATE, STATUS_CODE, SEVERITY_LEVEL, CONT_OFFSET_GL, BALANCE_FLAG, GAAP_INDICATOR)\nvalues ('39130001272', '391', 'PRINCIPAL', '14191561', 'R', 0.0, 0.0, to_date('20-09-2019', 'dd-mm-yyyy'), 'BCTG', 8, null, 'N', 'AL');\ninsert into admfca.cltb_account_comp_bal_breakup (ACCOUNT_NUMBER, BRANCH_CODE, COMPONENT, GL_CODE, GL_TYPE, BALANCE, LCY_BALANCE, CREATION_DATE, STATUS_CODE, SEVERITY_LEVEL, CONT_OFFSET_GL, BALANCE_FLAG, GAAP_INDICATOR)\nvalues ('39130001272', '391', 'PRINCIPAL', '14321561', 'R', 0.0, 0.0, to_date('15-09-2019', 'dd-mm-yyyy'), 'CCTG', 3, null, 'N', 'AL');\ninsert into admfca.cltb_account_comp_bal_breakup (ACCOUNT_NUMBER, BRANCH_CODE, COMPONENT, GL_CODE, GL_TYPE, BALANCE, LCY_BALANCE, CREATION_DATE, STATUS_CODE, SEVERITY_LEVEL, CONT_OFFSET_GL, BALANCE_FLAG, GAAP_INDICATOR)\nvalues ('39130001272', '391', 'PRINCIPAL', '14331561', 'R', 47933322.02, 47933322.02, to_date('16-12-2019', 'dd-mm-yyyy'), 'DCTG', 4, null, 'N', 'AL');\ninsert into admfca.cltb_account_comp_bal_breakup (ACCOUNT_NUMBER, BRANCH_CODE, COMPONENT, GL_CODE, GL_TYPE, BALANCE, LCY_BALANCE, CREATION_DATE, STATUS_CODE, SEVERITY_LEVEL, CONT_OFFSET_GL, BALANCE_FLAG, GAAP_INDICATOR)\nvalues ('39130001272', '391', 'VH_SGBAV', '16370561', 'R', 0.0, 0.0, to_date('02-04-2019', 'dd-mm-yyyy'), 'NORM', 1, 25709501.0, 'N', 'AL');\ninsert into admfca.cltb_account_comp_bal_breakup (ACCOUNT_NUMBER, BRANCH_CODE, COMPONENT, GL_CODE, GL_TYPE, BALANCE, LCY_BALANCE, CREATION_DATE, STATUS_CODE, SEVERITY_LEVEL, CONT_OFFSET_GL, BALANCE_FLAG, GAAP_INDICATOR)\nvalues ('39130001272', '391', 'VH_SGBAV', '16371061', 'R', null, 0.0, to_date('16-08-2019', 'dd-mm-yyyy'), 'BCXC', 2, null, 'N', 'AL');\ninsert into admfca.cltb_account_comp_bal_breakup (ACCOUNT_NUMBER, BRANCH_CODE, COMPONENT, GL_CODE, GL_TYPE, BALANCE, LCY_BALANCE, CREATION_DATE, STATUS_CODE, SEVERITY_LEVEL, CONT_OFFSET_GL, BALANCE_FLAG, GAAP_INDICATOR)\nvalues ('39130001272', '391', 'VH_SGBAV', '16371061', 'R', 0.0, 0.0, to_date('20-09-2019', 'dd-mm-yyyy'), 'BCTG', 8, null, 'N', 'AL');\ninsert into admfca.cltb_account_comp_bal_breakup (ACCOUNT_NUMBER, BRANCH_CODE, COMPONENT, GL_CODE, GL_TYPE, BALANCE, LCY_BALANCE, CREATION_DATE, STATUS_CODE, SEVERITY_LEVEL, CONT_OFFSET_GL, BALANCE_FLAG, GAAP_INDICATOR)\nvalues ('39130001272', '391', 'VH_SGBAV', '16371561', 'R', 0.0, 0.0, to_date('15-09-2019', 'dd-mm-yyyy'), 'CCTG', 3, null, 'N', 'AL');\ninsert into admfca.cltb_account_comp_bal_breakup (ACCOUNT_NUMBER, BRANCH_CODE, COMPONENT, GL_CODE, GL_TYPE, BALANCE, LCY_BALANCE, CREATION_DATE, STATUS_CODE, SEVERITY_LEVEL, CONT_OFFSET_GL, BALANCE_FLAG, GAAP_INDICATOR)\nvalues ('39130001272', '391', 'VH_SGBAV', '16372061', 'R', 1515324.0, 1515324.0, to_date('16-12-2019', 'dd-mm-yyyy'), 'DCTG', 4, null, 'N', 'AL');\ninsert into admfca.cltb_account_comp_bal_breakup (ACCOUNT_NUMBER, BRANCH_CODE, COMPONENT, GL_CODE, GL_TYPE, BALANCE, LCY_BALANCE, CREATION_DATE, STATUS_CODE, SEVERITY_LEVEL, CONT_OFFSET_GL, BALANCE_FLAG, GAAP_INDICATOR)\nvalues ('39130001272', '391', 'VH_SGDAV', '16370561', 'R', 0.0, 0.0, to_date('02-04-2019', 'dd-mm-yyyy'), 'NORM', 1, 25709511.0, 'N', 'AL');\ninsert into admfca.cltb_account_comp_bal_breakup (ACCOUNT_NUMBER, BRANCH_CODE, COMPONENT, GL_CODE, GL_TYPE, BALANCE, LCY_BALANCE, CREATION_DATE, STATUS_CODE, SEVERITY_LEVEL, CONT_OFFSET_GL, BALANCE_FLAG, GAAP_INDICATOR)\nvalues ('39130001272', '391', 'VH_SGDAV', '16371061', 'R', 0.0, 0.0, to_date('16-08-2019', 'dd-mm-yyyy'), 'BCXC', 2, null, 'N', 'AL');\ninsert into admfca.cltb_account_comp_bal_breakup (ACCOUNT_NUMBER, BRANCH_CODE, COMPONENT, GL_CODE, GL_TYPE, BALANCE, LCY_BALANCE, CREATION_DATE, STATUS_CODE, SEVERITY_LEVEL, CONT_OFFSET_GL, BALANCE_FLAG, GAAP_INDICATOR)\nvalues ('39130001272', '391', 'VH_SGDAV', '16371061', 'R', 0.0, 0.0, to_date('20-09-2019', 'dd-mm-yyyy'), 'BCTG', 8, null, 'N', 'AL');\ninsert into admfca.cltb_account_comp_bal_breakup (ACCOUNT_NUMBER, BRANCH_CODE, COMPONENT, GL_CODE, GL_TYPE, BALANCE, LCY_BALANCE, CREATION_DATE, STATUS_CODE, SEVERITY_LEVEL, CONT_OFFSET_GL, BALANCE_FLAG, GAAP_INDICATOR)\nvalues ('39130001272', '391', 'VH_SGDAV', '16371561', 'R', 0.0, 0.0, to_date('15-09-2019', 'dd-mm-yyyy'), 'CCTG', 3, null, 'N', 'AL');\ninsert into admfca.cltb_account_comp_bal_breakup (ACCOUNT_NUMBER, BRANCH_CODE, COMPONENT, GL_CODE, GL_TYPE, BALANCE, LCY_BALANCE, CREATION_DATE, STATUS_CODE, SEVERITY_LEVEL, CONT_OFFSET_GL, BALANCE_FLAG, GAAP_INDICATOR)\nvalues ('39130001272', '391', 'VH_SGDAV', '16372061', 'R', 0.0, 0.0, to_date('16-12-2019', 'dd-mm-yyyy'), 'DCTG', 4, null, 'N', 'AL');\ninsert into admfca.cltb_account_comp_bal_breakup (ACCOUNT_NUMBER, BRANCH_CODE, COMPONENT, GL_CODE, GL_TYPE, BALANCE, LCY_BALANCE, CREATION_DATE, STATUS_CODE, SEVERITY_LEVEL, CONT_OFFSET_GL, BALANCE_FLAG, GAAP_INDICATOR)\nvalues ('39130001272', '391', 'VH_SGVAV', '16370561', 'R', 0.0, 0.0, to_date('02-04-2019', 'dd-mm-yyyy'), 'NORM', 1, 25709503.0, 'N', 'AL');\ninsert into admfca.cltb_account_comp_bal_breakup (ACCOUNT_NUMBER, BRANCH_CODE, COMPONENT, GL_CODE, GL_TYPE, BALANCE, LCY_BALANCE, CREATION_DATE, STATUS_CODE, SEVERITY_LEVEL, CONT_OFFSET_GL, BALANCE_FLAG, GAAP_INDICATOR)\nvalues ('39130001272', '391', 'VH_SGVAV', '16371061', 'R', 0.0, 0.0, to_date('16-08-2019', 'dd-mm-yyyy'), 'BCXC', 2, null, 'N', 'AL');\ninsert into admfca.cltb_account_comp_bal_breakup (ACCOUNT_NUMBER, BRANCH_CODE, COMPONENT, GL_CODE, GL_TYPE, BALANCE, LCY_BALANCE, CREATION_DATE, STATUS_CODE, SEVERITY_LEVEL, CONT_OFFSET_GL, BALANCE_FLAG, GAAP_INDICATOR)\nvalues ('39130001272', '391', 'VH_SGVAV', '16371061', 'R', 0.0, 0.0, to_date('20-09-2019', 'dd-mm-yyyy'), 'BCTG', 8, null, 'N', 'AL');\ninsert into admfca.cltb_account_comp_bal_breakup (ACCOUNT_NUMBER, BRANCH_CODE, COMPONENT, GL_CODE, GL_TYPE, BALANCE, LCY_BALANCE, CREATION_DATE, STATUS_CODE, SEVERITY_LEVEL, CONT_OFFSET_GL, BALANCE_FLAG, GAAP_INDICATOR)\nvalues ('39130001272', '391', 'VH_SGVAV', '16371561', 'R', 0.0, 0.0, to_date('15-09-2019', 'dd-mm-yyyy'), 'CCTG', 3, null, 'N', 'AL');\ninsert into admfca.cltb_account_comp_bal_breakup (ACCOUNT_NUMBER, BRANCH_CODE, COMPONENT, GL_CODE, GL_TYPE, BALANCE, LCY_BALANCE, CREATION_DATE, STATUS_CODE, SEVERITY_LEVEL, CONT_OFFSET_GL, BALANCE_FLAG, GAAP_INDICATOR)\nvalues ('39130001272', '391', 'VH_SGVAV', '16372061', 'R', 201664.0, 201664.0, to_date('16-12-2019', 'dd-mm-yyyy'), 'DCTG', 4, null, 'N', 'AL');\ninsert into admfca.cltb_account_comp_bal_breakup (ACCOUNT_NUMBER, BRANCH_CODE, COMPONENT, GL_CODE, GL_TYPE, BALANCE, LCY_BALANCE, CREATION_DATE, STATUS_CODE, SEVERITY_LEVEL, CONT_OFFSET_GL, BALANCE_FLAG, GAAP_INDICATOR)\nvalues ('39130001272', '391', 'VH_SGVGV', '16372061', 'R', 0.0, 0.0, to_date('19-03-2020', 'dd-mm-yyyy'), 'DCTG', 4, 25709503.0, 'N', 'AL');\n"
    }
   ],
   "source": [
    "\n",
    "campos = \"insert into admfca.cltb_account_comp_bal_breakup (ACCOUNT_NUMBER, BRANCH_CODE, COMPONENT, GL_CODE, GL_TYPE, BALANCE, LCY_BALANCE, CREATION_DATE, STATUS_CODE, SEVERITY_LEVEL, CONT_OFFSET_GL, BALANCE_FLAG, GAAP_INDICATOR)\"\n",
    "\n",
    "x = 1\n",
    "if x == 1:\n",
    "    for f,c in enumerate(df.iterrows()):\n",
    "        print(campos+\"\\n\"+'values (\\''+str(df.ACCOUNT_NUMBER[h])+'\\''+', '+'\\''+str(df.BRANCH_CODE[h])+'\\''+', '+'\\''+str(df.COMPONENT[h])+'\\''+', '+'\\''+str(df.GL_CODE[h])+'\\''+', '+'\\''+str(df.GL_TYPE[h])+'\\''+', '+(\"null\" if str(df.BALANCE[h]) == str(nan) else str(df.BALANCE[h]))+', '+(\"null\" if str(df.LCY_BALANCE[h]) == str(nan) else str(df.LCY_BALANCE[h]))+', '+'to_date(\\''+str(\"{:02d}\".format(int(df.CREATION_DATE[h].day)))+'-'+str(\"{:02d}\".format(int(df.CREATION_DATE[h].month)))+'-'+str(\"{:04d}\".format(int(df.CREATION_DATE[h].year)))+'\\', \\'dd-mm-yyyy\\')'+ ', '+'\\''+str(df.STATUS_CODE[h])+'\\''+', '+(\"null\" if str(df.SEVERITY_LEVEL[h]) == str(nan) else str(df.SEVERITY_LEVEL[h]))+', '+(\"null\" if str(df.CONT_OFFSET_GL[h]) == str(nan) else str(df.CONT_OFFSET_GL[h]))+', '+'\\''+str(df.BALANCE_FLAG[h])+'\\''+', '+'\\''+str(df.GAAP_INDICATOR[h])+'\\''+');')"
   ]
  },
  {
   "cell_type": "code",
   "execution_count": null,
   "metadata": {},
   "outputs": [],
   "source": []
  }
 ],
 "metadata": {
  "language_info": {
   "codemirror_mode": {
    "name": "ipython",
    "version": 3
   },
   "file_extension": ".py",
   "mimetype": "text/x-python",
   "name": "python",
   "nbconvert_exporter": "python",
   "pygments_lexer": "ipython3",
   "version": "3.8.2-final"
  },
  "orig_nbformat": 2,
  "kernelspec": {
   "name": "python38232bit5338d3b532ed43289af7a5f903678c2b",
   "display_name": "Python 3.8.2 32-bit"
  }
 },
 "nbformat": 4,
 "nbformat_minor": 2
}