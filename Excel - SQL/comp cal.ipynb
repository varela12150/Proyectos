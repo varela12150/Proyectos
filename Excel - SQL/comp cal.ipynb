{
 "cells": [
  {
   "cell_type": "code",
   "execution_count": 1,
   "metadata": {},
   "outputs": [],
   "source": [
    "import pandas as pd\n",
    "from numpy import nan\n",
    "path_file = \"39130001272.xlsx\"\n",
    "hoja = \"CLTB_ACCOUNT_COMP_CALC\"\n",
    "df = pd.read_excel(path_file,sheet_name=hoja)"
   ]
  },
  {
   "cell_type": "code",
   "execution_count": 2,
   "metadata": {},
   "outputs": [
    {
     "output_type": "stream",
     "name": "stdout",
     "text": ", '39130001272'\n, '39130001272'\n, 39130001272\n, to_date('02-04-2019', 'dd-mm-yyyy')\n, to_date('02-04-2019', 'dd-mm-yyyy')\n"
    }
   ],
   "source": [
    "a = ', '+'\\''+str(df.ACCOUNT_NUMBER[h])+'\\''  \n",
    "b = ', '+(\"null\" if str(df.ACCOUNT_NUMBER[h]) == str(nan) else '\\''+str(df.ACCOUNT_NUMBER[h])+'\\'')\n",
    "c = ', '+(\"null\" if str(df.ACCOUNT_NUMBER[h]) == str(nan) else str(df.ACCOUNT_NUMBER[h]))\n",
    "d = ', '+'to_date(\\''+str(\"{:02d}\".format(int(df.START_DATE[h].day)))+'-'+str(\"{:02d}\".format(int(df.START_DATE[h].month)))+'-'+str(\"{:04d}\".format(int(df.START_DATE[h].year)))+'\\', \\'dd-mm-yyyy\\')'\n",
    "e = ', '+(\"null\" if str(df.START_DATE[h]) == 'NaT' else 'to_date(\\''+str(\"{:02d}\".format(int(df.START_DATE[h].day)))+'-'+str(\"{:02d}\".format(int(df.START_DATE[h].month)))+'-'+str(\"{:04d}\".format(int(df.START_DATE[h].year)))+'\\', \\'dd-mm-yyyy\\')')\n",
    "\n",
    "\n",
    "print(a)\n",
    "print(b)\n",
    "print(c)\n",
    "print(d)\n",
    "print(e)"
   ]
  },
  {
   "cell_type": "code",
   "execution_count": 3,
   "metadata": {},
   "outputs": [],
   "source": [
    "#values ('391', '39130001272', 'AA_CGRUD', 'AA_CGRUD_FRM_1', to_date('02-04-2019', 'dd-mm-yyyy'), to_date('02-04-2019', 'dd-mm-yyyy'), to_date('02-04-2019', 'dd-mm-yyyy'), 0, 'U027', 'COP', 'AA_CGRUD_VL~8000!', 8000, 0, 'N', to_date('02-04-2019', 'dd-mm-yyyy'), 'N');"
   ]
  },
  {
   "cell_type": "code",
   "execution_count": 16,
   "metadata": {},
   "outputs": [
    {
     "output_type": "stream",
     "name": "stdout",
     "text": "values ('391', '39130001272', 'AA_CGRUD', 'AA_CGRUD_FRM_1', to_date('02-04-2019', 'dd-mm-yyyy'), to_date('02-04-2019', 'dd-mm-yyyy'), to_date('02-04-2019', 'dd-mm-yyyy'), 0, 'U027', 'COP', 'AA_CGRUD_VL~8000!', 8000.0, 0.0, 'N', to_date('02-04-2019', 'dd-mm-yyyy'), 'N');\n"
    }
   ],
   "source": [
    "CACC = 'values (\\''+str(df3.BRANCH_CODE[e])+'\\''+', '+'\\''+str(df3.ACCOUNT_NUMBER[e])+'\\''+', '+'\\''+str(df3.COMPONENT_NAME[e])+'\\''+', '+'\\''+str(df3.FORMULA_NAME[e])+'\\''+', '+'to_date(\\''+str(\"{:02d}\".format(int(df3.SCH_DUE_DATE[e].day)))+'-'+str(\"{:02d}\".format(int(df3.SCH_DUE_DATE[e].month)))+'-'+str(\"{:04d}\".format(int(df3.SCH_DUE_DATE[e].year)))+'\\', \\'dd-mm-yyyy\\')'+', '+'to_date(\\''+str(\"{:02d}\".format(int(df3.START_DATE[e].day)))+'-'+str(\"{:02d}\".format(int(df3.START_DATE[e].month)))+'-'+str(\"{:04d}\".format(int(df3.START_DATE[e].year)))+'\\', \\'dd-mm-yyyy\\')'+', '+'to_date(\\''+str(\"{:02d}\".format(int(df3.END_DATE[e].day)))+'-'+str(\"{:02d}\".format(int(df3.END_DATE[e].month)))+'-'+str(\"{:04d}\".format(int(df3.END_DATE[e].year)))+'\\', \\'dd-mm-yyyy\\')'+', '+(\"null\" if str(df3.NO_OF_DAYS[e]) == str(nan) else str(df3.NO_OF_DAYS[e]))+', '+'\\''+str(df3.PRODUCT[e])+'\\''+', '+'\\''+str(df3.CURRENCY[e])+'\\''+', '+'\\''+str(df3.EXPR_LINE[e])+'\\''+', '+(\"null\" if str(df3.ACCR_TILL_DATE[e]) == str(nan) else str(df3.ACCR_TILL_DATE[e]))+', '+(\"null\" if str(df3.DLY_AVG_AMT[e]) == str(nan) else str(df3.DLY_AVG_AMT[e]))+', '+'\\''+str(df3.IS_DUE_TO_SUB_COMP[e])+'\\''+', '+'to_date(\\''+str(\"{:02d}\".format(int(df3.SCH_START_DATE[e].day)))+'-'+str(\"{:02d}\".format(int(df3.SCH_START_DATE[e].month)))+'-'+str(\"{:04d}\".format(int(df3.SCH_START_DATE[e].year)))+'\\', \\'dd-mm-yyyy\\')'+', '+'\\''+str(df3.FORMULA_GROUP[e])+'\\''+');'\n",
    "\n",
    "print(CACC)"
   ]
  },
  {
   "cell_type": "code",
   "execution_count": null,
   "metadata": {},
   "outputs": [],
   "source": []
  }
 ],
 "metadata": {
  "language_info": {
   "codemirror_mode": {
    "name": "ipython",
    "version": 3
   },
   "file_extension": ".py",
   "mimetype": "text/x-python",
   "name": "python",
   "nbconvert_exporter": "python",
   "pygments_lexer": "ipython3",
   "version": "3.8.2-final"
  },
  "orig_nbformat": 2,
  "kernelspec": {
   "name": "python38232bit5338d3b532ed43289af7a5f903678c2b",
   "display_name": "Python 3.8.2 32-bit"
  }
 },
 "nbformat": 4,
 "nbformat_minor": 2
}