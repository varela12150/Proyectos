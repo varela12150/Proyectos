{
 "cells": [
  {
   "cell_type": "code",
   "execution_count": 20,
   "metadata": {},
   "outputs": [
    {
     "output_type": "execute_result",
     "data": {
      "text/plain": "     ACCOUNT_NUMBER  BRANCH_CODE COMPONENT_NAME    FORMULA_NAME SCHEDULE_TYPE  \\\n0       42030009692          420       AA_CGADD             NaN           NaN   \n1       42030009692          420       AA_CGRUD  AA_CGRUD_FRM_1           NaN   \n2       42030009692          420       AA_COMVT  AA_COMVT_FRM_1             P   \n3       42030009692          420       AA_COMVT  AA_COMVT_FRM_1             P   \n4       42030009692          420       AA_COMVT  AA_COMVT_FRM_1             P   \n..              ...          ...            ...             ...           ...   \n826     42030009692          420       VH_SGVGV  VH_SGVGV_FRM_1             P   \n827     42030009692          420       VH_SGVGV  VH_SGVGV_FRM_1             P   \n828     42030009692          420       VH_SGVGV  VH_SGVGV_FRM_1             P   \n829     42030009692          420       VH_SGVGV  VH_SGVGV_FRM_1             P   \n830     42030009692          420       VH_SGVGV  VH_SGVGV_FRM_1             P   \n\n    SCHEDULE_ST_DATE SCHEDULE_DUE_DATE  GRACE_DAYS  ORIG_AMOUNT_DUE  \\\n0         2019-12-16        2019-12-16         NaN              NaN   \n1         2019-12-16        2019-12-16         NaN              NaN   \n2         2019-12-16        2020-01-17         0.0              NaN   \n3         2020-01-17        2020-02-17         0.0              NaN   \n4         2020-02-17        2020-03-17         0.0              NaN   \n..               ...               ...         ...              ...   \n826       2025-03-17        2025-04-21         0.0              NaN   \n827       2025-04-21        2025-05-19         0.0              NaN   \n828       2025-05-19        2025-06-17         0.0              NaN   \n829       2025-06-17        2025-07-17         0.0              NaN   \n830       2025-07-17        2025-08-19         0.0              NaN   \n\n     AMOUNT_DUE  ...  SUSP_AMT_SETTLED  SUSP_AMT_LCY  SUSP_READ_AMT  \\\n0       52030.0  ...               0.0           NaN            NaN   \n1        8000.0  ...               NaN           NaN            NaN   \n2           0.0  ...               NaN           NaN            NaN   \n3           0.0  ...               NaN           NaN            NaN   \n4           0.0  ...               NaN           NaN            NaN   \n..          ...  ...               ...           ...            ...   \n826         0.0  ...               NaN           NaN            NaN   \n827         0.0  ...               NaN           NaN            NaN   \n828         0.0  ...               NaN           NaN            NaN   \n829         0.0  ...               NaN           NaN            NaN   \n830         0.0  ...               NaN           NaN            NaN   \n\n     SUSP_READ_SETTLED LAST_SUSP_XRATE  AMOUNT_WAIVED  IRR_APPLICABLE  \\\n0                  NaN             NaN            NaN               N   \n1                  NaN             NaN            NaN               N   \n2                  NaN             NaN            NaN               N   \n3                  NaN             NaN            NaN               N   \n4                  NaN             NaN            NaN               N   \n..                 ...             ...            ...             ...   \n826                NaN             NaN            NaN               N   \n827                NaN             NaN            NaN               N   \n828                NaN             NaN            NaN               N   \n829                NaN             NaN            NaN               N   \n830                NaN             NaN            NaN               N   \n\n     LIST_DAYS LIST_AVG_AMT PAY_BY_DATE  \n0          NaN          NaN         NaN  \n1          NaN          NaN         NaN  \n2          NaN          NaN         NaN  \n3          NaN          NaN         NaN  \n4          NaN          NaN         NaN  \n..         ...          ...         ...  \n826        NaN          NaN         NaN  \n827        NaN          NaN         NaN  \n828        NaN          NaN         NaN  \n829        NaN          NaN         NaN  \n830        NaN          NaN         NaN  \n\n[831 rows x 46 columns]",
      "text/html": "<div>\n<style scoped>\n    .dataframe tbody tr th:only-of-type {\n        vertical-align: middle;\n    }\n\n    .dataframe tbody tr th {\n        vertical-align: top;\n    }\n\n    .dataframe thead th {\n        text-align: right;\n    }\n</style>\n<table border=\"1\" class=\"dataframe\">\n  <thead>\n    <tr style=\"text-align: right;\">\n      <th></th>\n      <th>ACCOUNT_NUMBER</th>\n      <th>BRANCH_CODE</th>\n      <th>COMPONENT_NAME</th>\n      <th>FORMULA_NAME</th>\n      <th>SCHEDULE_TYPE</th>\n      <th>SCHEDULE_ST_DATE</th>\n      <th>SCHEDULE_DUE_DATE</th>\n      <th>GRACE_DAYS</th>\n      <th>ORIG_AMOUNT_DUE</th>\n      <th>AMOUNT_DUE</th>\n      <th>...</th>\n      <th>SUSP_AMT_SETTLED</th>\n      <th>SUSP_AMT_LCY</th>\n      <th>SUSP_READ_AMT</th>\n      <th>SUSP_READ_SETTLED</th>\n      <th>LAST_SUSP_XRATE</th>\n      <th>AMOUNT_WAIVED</th>\n      <th>IRR_APPLICABLE</th>\n      <th>LIST_DAYS</th>\n      <th>LIST_AVG_AMT</th>\n      <th>PAY_BY_DATE</th>\n    </tr>\n  </thead>\n  <tbody>\n    <tr>\n      <th>0</th>\n      <td>42030009692</td>\n      <td>420</td>\n      <td>AA_CGADD</td>\n      <td>NaN</td>\n      <td>NaN</td>\n      <td>2019-12-16</td>\n      <td>2019-12-16</td>\n      <td>NaN</td>\n      <td>NaN</td>\n      <td>52030.0</td>\n      <td>...</td>\n      <td>0.0</td>\n      <td>NaN</td>\n      <td>NaN</td>\n      <td>NaN</td>\n      <td>NaN</td>\n      <td>NaN</td>\n      <td>N</td>\n      <td>NaN</td>\n      <td>NaN</td>\n      <td>NaN</td>\n    </tr>\n    <tr>\n      <th>1</th>\n      <td>42030009692</td>\n      <td>420</td>\n      <td>AA_CGRUD</td>\n      <td>AA_CGRUD_FRM_1</td>\n      <td>NaN</td>\n      <td>2019-12-16</td>\n      <td>2019-12-16</td>\n      <td>NaN</td>\n      <td>NaN</td>\n      <td>8000.0</td>\n      <td>...</td>\n      <td>NaN</td>\n      <td>NaN</td>\n      <td>NaN</td>\n      <td>NaN</td>\n      <td>NaN</td>\n      <td>NaN</td>\n      <td>N</td>\n      <td>NaN</td>\n      <td>NaN</td>\n      <td>NaN</td>\n    </tr>\n    <tr>\n      <th>2</th>\n      <td>42030009692</td>\n      <td>420</td>\n      <td>AA_COMVT</td>\n      <td>AA_COMVT_FRM_1</td>\n      <td>P</td>\n      <td>2019-12-16</td>\n      <td>2020-01-17</td>\n      <td>0.0</td>\n      <td>NaN</td>\n      <td>0.0</td>\n      <td>...</td>\n      <td>NaN</td>\n      <td>NaN</td>\n      <td>NaN</td>\n      <td>NaN</td>\n      <td>NaN</td>\n      <td>NaN</td>\n      <td>N</td>\n      <td>NaN</td>\n      <td>NaN</td>\n      <td>NaN</td>\n    </tr>\n    <tr>\n      <th>3</th>\n      <td>42030009692</td>\n      <td>420</td>\n      <td>AA_COMVT</td>\n      <td>AA_COMVT_FRM_1</td>\n      <td>P</td>\n      <td>2020-01-17</td>\n      <td>2020-02-17</td>\n      <td>0.0</td>\n      <td>NaN</td>\n      <td>0.0</td>\n      <td>...</td>\n      <td>NaN</td>\n      <td>NaN</td>\n      <td>NaN</td>\n      <td>NaN</td>\n      <td>NaN</td>\n      <td>NaN</td>\n      <td>N</td>\n      <td>NaN</td>\n      <td>NaN</td>\n      <td>NaN</td>\n    </tr>\n    <tr>\n      <th>4</th>\n      <td>42030009692</td>\n      <td>420</td>\n      <td>AA_COMVT</td>\n      <td>AA_COMVT_FRM_1</td>\n      <td>P</td>\n      <td>2020-02-17</td>\n      <td>2020-03-17</td>\n      <td>0.0</td>\n      <td>NaN</td>\n      <td>0.0</td>\n      <td>...</td>\n      <td>NaN</td>\n      <td>NaN</td>\n      <td>NaN</td>\n      <td>NaN</td>\n      <td>NaN</td>\n      <td>NaN</td>\n      <td>N</td>\n      <td>NaN</td>\n      <td>NaN</td>\n      <td>NaN</td>\n    </tr>\n    <tr>\n      <th>...</th>\n      <td>...</td>\n      <td>...</td>\n      <td>...</td>\n      <td>...</td>\n      <td>...</td>\n      <td>...</td>\n      <td>...</td>\n      <td>...</td>\n      <td>...</td>\n      <td>...</td>\n      <td>...</td>\n      <td>...</td>\n      <td>...</td>\n      <td>...</td>\n      <td>...</td>\n      <td>...</td>\n      <td>...</td>\n      <td>...</td>\n      <td>...</td>\n      <td>...</td>\n      <td>...</td>\n    </tr>\n    <tr>\n      <th>826</th>\n      <td>42030009692</td>\n      <td>420</td>\n      <td>VH_SGVGV</td>\n      <td>VH_SGVGV_FRM_1</td>\n      <td>P</td>\n      <td>2025-03-17</td>\n      <td>2025-04-21</td>\n      <td>0.0</td>\n      <td>NaN</td>\n      <td>0.0</td>\n      <td>...</td>\n      <td>NaN</td>\n      <td>NaN</td>\n      <td>NaN</td>\n      <td>NaN</td>\n      <td>NaN</td>\n      <td>NaN</td>\n      <td>N</td>\n      <td>NaN</td>\n      <td>NaN</td>\n      <td>NaN</td>\n    </tr>\n    <tr>\n      <th>827</th>\n      <td>42030009692</td>\n      <td>420</td>\n      <td>VH_SGVGV</td>\n      <td>VH_SGVGV_FRM_1</td>\n      <td>P</td>\n      <td>2025-04-21</td>\n      <td>2025-05-19</td>\n      <td>0.0</td>\n      <td>NaN</td>\n      <td>0.0</td>\n      <td>...</td>\n      <td>NaN</td>\n      <td>NaN</td>\n      <td>NaN</td>\n      <td>NaN</td>\n      <td>NaN</td>\n      <td>NaN</td>\n      <td>N</td>\n      <td>NaN</td>\n      <td>NaN</td>\n      <td>NaN</td>\n    </tr>\n    <tr>\n      <th>828</th>\n      <td>42030009692</td>\n      <td>420</td>\n      <td>VH_SGVGV</td>\n      <td>VH_SGVGV_FRM_1</td>\n      <td>P</td>\n      <td>2025-05-19</td>\n      <td>2025-06-17</td>\n      <td>0.0</td>\n      <td>NaN</td>\n      <td>0.0</td>\n      <td>...</td>\n      <td>NaN</td>\n      <td>NaN</td>\n      <td>NaN</td>\n      <td>NaN</td>\n      <td>NaN</td>\n      <td>NaN</td>\n      <td>N</td>\n      <td>NaN</td>\n      <td>NaN</td>\n      <td>NaN</td>\n    </tr>\n    <tr>\n      <th>829</th>\n      <td>42030009692</td>\n      <td>420</td>\n      <td>VH_SGVGV</td>\n      <td>VH_SGVGV_FRM_1</td>\n      <td>P</td>\n      <td>2025-06-17</td>\n      <td>2025-07-17</td>\n      <td>0.0</td>\n      <td>NaN</td>\n      <td>0.0</td>\n      <td>...</td>\n      <td>NaN</td>\n      <td>NaN</td>\n      <td>NaN</td>\n      <td>NaN</td>\n      <td>NaN</td>\n      <td>NaN</td>\n      <td>N</td>\n      <td>NaN</td>\n      <td>NaN</td>\n      <td>NaN</td>\n    </tr>\n    <tr>\n      <th>830</th>\n      <td>42030009692</td>\n      <td>420</td>\n      <td>VH_SGVGV</td>\n      <td>VH_SGVGV_FRM_1</td>\n      <td>P</td>\n      <td>2025-07-17</td>\n      <td>2025-08-19</td>\n      <td>0.0</td>\n      <td>NaN</td>\n      <td>0.0</td>\n      <td>...</td>\n      <td>NaN</td>\n      <td>NaN</td>\n      <td>NaN</td>\n      <td>NaN</td>\n      <td>NaN</td>\n      <td>NaN</td>\n      <td>N</td>\n      <td>NaN</td>\n      <td>NaN</td>\n      <td>NaN</td>\n    </tr>\n  </tbody>\n</table>\n<p>831 rows × 46 columns</p>\n</div>"
     },
     "metadata": {},
     "execution_count": 20
    }
   ],
   "source": [
    "import pandas as pd\n",
    "from numpy import nan\n",
    "path_file = \"42030009692.xlsx\"\n",
    "hoja = \"CLTB_ACCOUNT_SCHEDULES\"\n",
    "df = pd.read_excel(path_file,sheet_name=hoja)\n",
    "df"
   ]
  },
  {
   "cell_type": "code",
   "execution_count": 5,
   "metadata": {},
   "outputs": [
    {
     "output_type": "stream",
     "name": "stdout",
     "text": ", '42030009692'\n, '42030009692'\n, 42030009692\n, to_date('16-12-2019', 'dd-mm-yyyy')\n, to_date('16-12-2019', 'dd-mm-yyyy')\n"
    }
   ],
   "source": [
    "a = ', '+'\\''+str(df.ACCOUNT_NUMBER[0])+'\\''  \n",
    "b = ', '+(\"null\" if str(df.ACCOUNT_NUMBER[0]) == str(nan) else '\\''+str(df.ACCOUNT_NUMBER[0])+'\\'')\n",
    "c = ', '+(\"null\" if str(df.ACCOUNT_NUMBER[0]) == str(nan) else str(df.ACCOUNT_NUMBER[0]))\n",
    "d = ', '+'to_date(\\''+str(\"{:02d}\".format(int(df.SCHEDULE_ST_DATE[0].day)))+'-'+str(\"{:02d}\".format(int(df.SCHEDULE_ST_DATE[0].month)))+'-'+str(\"{:04d}\".format(int(df.SCHEDULE_ST_DATE[0].year)))+'\\', \\'dd-mm-yyyy\\')'\n",
    "e = ', '+(\"null\" if str(df.SCHEDULE_ST_DATE[0]) == 'NaT' else 'to_date(\\''+str(\"{:02d}\".format(int(df.SCHEDULE_ST_DATE[0].day)))+'-'+str(\"{:02d}\".format(int(df.SCHEDULE_ST_DATE[0].month)))+'-'+str(\"{:04d}\".format(int(df.SCHEDULE_ST_DATE[0].year)))+'\\', \\'dd-mm-yyyy\\')')\n",
    "\n",
    "\n",
    "print(a)\n",
    "print(b)\n",
    "print(c)\n",
    "print(d)\n",
    "print(e)\n",
    "\n"
   ]
  },
  {
   "cell_type": "code",
   "execution_count": 1,
   "metadata": {},
   "outputs": [],
   "source": [
    "#values ('391', '39130001272', 'AA_CGRUD', 'AA_CGRUD_FRM_1', to_date('02-04-2019', 'dd-mm-yyyy'), to_date('02-04-2019', 'dd-mm-yyyy'), to_date('02-04-2019', 'dd-mm-yyyy'), 0, 'U027', 'COP', 'AA_CGRUD_VL~8000!', 8000, 0, 'N', to_date('02-04-2019', 'dd-mm-yyyy'), 'N');"
   ]
  },
  {
   "cell_type": "code",
   "execution_count": 23,
   "metadata": {},
   "outputs": [
    {
     "output_type": "stream",
     "name": "stdout",
     "text": "values ('42030009692', '420', 'AA_CGADD', null, null, to_date('16-12-2019', 'dd-mm-yyyy'), to_date('16-12-2019', 'dd-mm-yyyy'), null, null, 52030.0, null, 52030.0, null, null, 'COP', null, null, null, null, null, 3.0, null, null, 2, null, null, null, null, to_date('28-01-2020', 'dd-mm-yyyy'), to_date('22-05-2020', 'dd-mm-yyyy'), null, null, null, null, null, null, 0.0, null, null, null, null, null, 'N', null, null, null);\n"
    }
   ],
   "source": [
    "CAS = 'values (\\''+str(df1.ACCOUNT_NUMBER[a])+'\\''+', \\''+str(df1.BRANCH_CODE[a])+'\\''+', \\''+str(df1.COMPONENT_NAME[a])+'\\''+', '+(\"null\" if str(df1.FORMULA_NAME[a]) == str(nan) else '\\''+str(df1.FORMULA_NAME[a])+'\\'')+', '+(\"null\" if str(df1.SCHEDULE_TYPE[a]) == str(nan) else '\\''+str(df1.SCHEDULE_TYPE[a])+'\\'')+ ', '+'to_date(\\''+str(\"{:02d}\".format(int(df1.SCHEDULE_ST_DATE[a].day)))+'-'+str(\"{:02d}\".format(int(df1.SCHEDULE_ST_DATE[a].month)))+'-'+str(\"{:04d}\".format(int(df1.SCHEDULE_ST_DATE[a].year)))+'\\', \\'dd-mm-yyyy\\')'+', '+'to_date(\\''+str(\"{:02d}\".format(int(df1.SCHEDULE_DUE_DATE[a].day)))+'-'+str(\"{:02d}\".format(int(df1.SCHEDULE_DUE_DATE[a].month)))+'-'+str(\"{:04d}\".format(int(df1.SCHEDULE_DUE_DATE[a].year)))+'\\', \\'dd-mm-yyyy\\')'+', '+(\"null\" if str(df1.GRACE_DAYS[a]) == str(nan) else str(df1.GRACE_DAYS[a]))+', '+(\"null\" if str(df1.ORIG_AMOUNT_DUE[a]) == str(nan) else str(df1.ORIG_AMOUNT_DUE[a]))+', '+(\"null\" if str(df1.AMOUNT_DUE[a]) == str(nan) else str(df1.AMOUNT_DUE[a]))+', '+(\"null\" if str(df1.ADJ_AMOUNT[a]) == str(nan) else str(df1.ADJ_AMOUNT[a]))+', '+(\"null\" if str(df1.AMOUNT_SETTLED[a]) == str(nan) else str(df1.AMOUNT_SETTLED[a]))+', '+(\"null\" if str(df1.AMOUNT_OVERDUE[a]) == str(nan) else str(df1.AMOUNT_OVERDUE[a]))+', '+(\"null\" if str(df1.ACCRUED_AMOUNT[a]) == str(nan) else str(df1.ACCRUED_AMOUNT[a]))+', '+'\\''+str(df1.SETTLEMENT_CCY[a])+'\\''+', '+(\"null\" if str(df1.LCY_EQUIVALENT[a]) == str(nan) else str(df1.LCY_EQUIVALENT[a]))+', '+(\"null\" if str(df1.DLY_AVG_AMT[a]) == str(nan) else str(df1.DLY_AVG_AMT[a]))+', '+(\"null\" if str(df1.EMI_AMOUNT[a]) == str(nan) else str(df1.EMI_AMOUNT[a]))+', '+(\"null\" if str(df1.SCHEDULE_FLAG[a]) == str(nan) else '\\''+str(df1.SCHEDULE_FLAG[a])+'\\'')+', '+(\"null\" if str(df1.WAIVER_FLAG[a]) == str(nan) else '\\''+str(df1.WAIVER_FLAG[a])+'\\'')+', '+(\"null\" if str(df1.EVENT_SEQ_NO[a]) == str(nan) else str(df1.EVENT_SEQ_NO[a]))+', '+(\"null\" if str(df1.SCHEDULE_LINKAGE[a]) == 'NaT' else 'to_date(\\''+str(\"{:02d}\".format(int(df1.SCHEDULE_LINKAGE[a].day)))+'-'+str(\"{:02d}\".format(int(df1.SCHEDULE_LINKAGE[a].month)))+'-'+str(\"{:04d}\".format(int(df1.SCHEDULE_LINKAGE[a].year)))+'\\', \\'dd-mm-yyyy\\')')+', '+(\"null\" if str(df1.CAPITALIZED[a]) == str(nan) else '\\''+str(df1.CAPITALIZED[a])+'\\'')+', '+(\"null\" if str(df1.PROCESS_NO[a]) == str(nan) else str(df1.PROCESS_NO[a]))+', '+(\"null\" if str(df1.AMOUNT_READJUSTED[a]) == str(nan) else str(df1.AMOUNT_READJUSTED[a]))+', '+(\"null\" if str(df1.ADJ_SETTLED[a]) == str(nan) else '\\''+str(df1.ADJ_SETTLED[a])+'\\'')+', '+(\"null\" if str(df1.SCH_STATUS[a]) == str(nan) else str(df1.SCH_STATUS[a]))+', '+(\"null\" if str(df1.ACCOUNT_GL[a]) == str(nan) else '\\''+str(df1.ACCOUNT_GL[a])+'\\'')+', '+(\"null\" if str(df1.LAST_PMNT_VALUE_DATE[a]) == 'NaT' else 'to_date(\\''+str(\"{:02d}\".format(int(df1.LAST_PMNT_VALUE_DATE[a].day)))+'-'+str(\"{:02d}\".format(int(df1.LAST_PMNT_VALUE_DATE[a].month)))+'-'+str(\"{:04d}\".format(int(df1.LAST_PMNT_VALUE_DATE[a].year)))+'\\', \\'dd-mm-yyyy\\')')+', '+(\"null\" if str(df1.RETRY_START_DATE[a]) == 'NaT' else 'to_date(\\''+str(\"{:02d}\".format(int(df1.RETRY_START_DATE[a].day)))+'-'+str(\"{:02d}\".format(int(df1.RETRY_START_DATE[a].month)))+'-'+str(\"{:04d}\".format(int(df1.RETRY_START_DATE[a].year)))+'\\', \\'dd-mm-yyyy\\')')+', '+(\"null\" if str(df1.MORA_INT[a]) == str(nan) else str(df1.MORA_INT[a]))+', '+(\"null\" if str(df1.SCHEDULE_NO[a]) == str(nan) else str(df1.SCHEDULE_NO[a]))+', '+(\"null\" if str(df1.WRITEOFF_AMT[a]) == str(nan) else str(df1.WRITEOFF_AMT[a]))+', '+(\"null\" if str(df1.READJ_SETTLED[a]) == str(nan) else str(df1.READJ_SETTLED[a]))+', '+(\"null\" if str(df1.LAST_READJ_XRATE[a]) == str(nan) else str(df1.LAST_READJ_XRATE[a]))+', '+(\"null\" if str(df1.SUSP_AMT_DUE[a]) == str(nan) else str(df1.SUSP_AMT_DUE[a]))+', '+(\"null\" if str(df1.SUSP_AMT_SETTLED[a]) == str(nan) else str(df1.SUSP_AMT_SETTLED[a]))+', '+(\"null\" if str(df1.SUSP_AMT_LCY[a]) == str(nan) else str(df1.SUSP_AMT_LCY[a]))+', '+(\"null\" if str(df1.SUSP_READ_AMT[a]) == str(nan) else str(df1.SUSP_READ_AMT[a]))+', '+(\"null\" if str(df1.SUSP_READ_SETTLED[a]) == str(nan) else str(df1.SUSP_READ_SETTLED[a]))+', '+(\"null\" if str(df1.LAST_SUSP_XRATE[a]) == str(nan) else str(df1.LAST_SUSP_XRATE[a]))+', '+(\"null\" if str(df1.AMOUNT_WAIVED[a]) == str(nan) else str(df1.AMOUNT_WAIVED[a]))+', '+(\"null\" if str(df1.IRR_APPLICABLE[a]) == str(nan) else '\\''+str(df1.IRR_APPLICABLE[a])+'\\'')+', '+(\"null\" if str(df1.LIST_DAYS[a]) == str(nan) else str(df1.LIST_DAYS[a]))+', '+(\"null\" if str(df1.LIST_AVG_AMT[a]) == str(nan) else str(df1.LIST_AVG_AMT[a]))+', '+(\"null\" if str(df1.PAY_BY_DATE[a]) == str(nan) else str(df1.PAY_BY_DATE[a]))+');'\n",
    "\n",
    "\n",
    "print (CAS)\n"
   ]
  },
  {
   "cell_type": "code",
   "execution_count": 22,
   "metadata": {},
   "outputs": [
    {
     "output_type": "stream",
     "name": "stdout",
     "text": "null, \nNaT\nNaT\nNaT\n"
    }
   ],
   "source": [
    "prueba_1 = (\"null\" if str(df.SCHEDULE_LINKAGE[0]) == 'NaT' or str(df.SCHEDULE_LINKAGE[0]) == str(nan) else 'to_date(\\''+str(\"{:02d}\".format(int(df.SCHEDULE_LINKAGE[0].day)))+'-'+str(\"{:02d}\".format(int(df.SCHEDULE_LINKAGE[0].month)))+'-'+str(\"{:04d}\".format(int(df.SCHEDULE_LINKAGE[0].year)))+'\\', \\'dd-mm-yyyy\\')')+', '\n",
    "\n",
    "#prueba_2 = (\"null\" if str(df.RETRY_START_DATE[0]) == 'NaT' or str(df.SCHEDULE_LINKAGE[0]) == str(nan) else 'to_date(\\''+str(\"{:02d}\".format(int(df.RETRY_START_DATE[0].day)))+'-'+str(\"{:02d}\".format(int(df.RETRY_START_DATE[0].month)))+'-'+str(\"{:04d}\".format(int(df.RETRY_START_DATE[0].year)))+'\\', \\'dd-mm-yyyy\\')')+', '\n",
    "\n",
    "print(prueba_1)\n",
    "#print(prueba_2)\n",
    "print(df.RETRY_START_DATE[1])\n",
    "print (df.SCHEDULE_LINKAGE[0])\n",
    "print (df.LAST_PMNT_VALUE_DATE[1])"
   ]
  },
  {
   "cell_type": "code",
   "execution_count": null,
   "metadata": {},
   "outputs": [],
   "source": []
  }
 ],
 "metadata": {
  "language_info": {
   "codemirror_mode": {
    "name": "ipython",
    "version": 3
   },
   "file_extension": ".py",
   "mimetype": "text/x-python",
   "name": "python",
   "nbconvert_exporter": "python",
   "pygments_lexer": "ipython3",
   "version": "3.8.2-final"
  },
  "orig_nbformat": 2,
  "kernelspec": {
   "name": "python38232bit5338d3b532ed43289af7a5f903678c2b",
   "display_name": "Python 3.8.2 32-bit"
  }
 },
 "nbformat": 4,
 "nbformat_minor": 2
}