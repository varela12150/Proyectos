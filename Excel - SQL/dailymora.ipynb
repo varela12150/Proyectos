{
 "cells": [
  {
   "cell_type": "code",
   "execution_count": 1,
   "metadata": {},
   "outputs": [],
   "source": [
    "import pandas as pd\n",
    "from numpy import nan\n",
    "path_file = \"39130001272.xlsx\"\n",
    "hoja = \"CLTB_ACCNT_DAILY_COMPOUND\"\n",
    "df = pd.read_excel(path_file,sheet_name=hoja)"
   ]
  },
  {
   "cell_type": "code",
   "execution_count": 2,
   "metadata": {},
   "outputs": [
    {
     "output_type": "stream",
     "name": "stdout",
     "text": ", '39130001272'\n, '39130001272'\n, 39130001272\n, to_date('17-05-2019', 'dd-mm-yyyy')\n, to_date('17-05-2019', 'dd-mm-yyyy')\n"
    }
   ],
   "source": [
    "a = ', '+'\\''+str(df.ACCOUNT_NUMBER[h])+'\\''  \n",
    "b = ', '+(\"null\" if str(df.ACCOUNT_NUMBER[h]) == str(nan) else '\\''+str(df.ACCOUNT_NUMBER[h])+'\\'')\n",
    "c = ', '+(\"null\" if str(df.ACCOUNT_NUMBER[h]) == str(nan) else str(df.ACCOUNT_NUMBER[h]))\n",
    "d = ', '+'to_date(\\''+str(\"{:02d}\".format(int(df.SCHEDULE_ST_DATE[h].day)))+'-'+str(\"{:02d}\".format(int(df.SCHEDULE_ST_DATE[h].month)))+'-'+str(\"{:04d}\".format(int(df.SCHEDULE_ST_DATE[h].year)))+'\\', \\'dd-mm-yyyy\\')'\n",
    "e = ', '+(\"null\" if str(df.SCHEDULE_ST_DATE[h]) == 'NaT' else 'to_date(\\''+str(\"{:02d}\".format(int(df.SCHEDULE_ST_DATE[h].day)))+'-'+str(\"{:02d}\".format(int(df.SCHEDULE_ST_DATE[h].month)))+'-'+str(\"{:04d}\".format(int(df.SCHEDULE_ST_DATE[h].year)))+'\\', \\'dd-mm-yyyy\\')')\n",
    "\n",
    "\n",
    "print(a)\n",
    "print(b)\n",
    "print(c)\n",
    "print(d)\n",
    "print(e)"
   ]
  },
  {
   "cell_type": "code",
   "execution_count": 3,
   "metadata": {},
   "outputs": [],
   "source": [
    "#values ('39130001272', '391', 'MORA_COMP', to_date('17-05-2019', 'dd-mm-yyyy'), to_date('17-05-2019', 'dd-mm-yyyy'), 0);"
   ]
  },
  {
   "cell_type": "code",
   "execution_count": 9,
   "metadata": {},
   "outputs": [
    {
     "output_type": "stream",
     "name": "stdout",
     "text": "values ('39130001272', '391', 'MORA_COMP', to_date('17-05-2019', 'dd-mm-yyyy'), to_date('17-05-2019', 'dd-mm-yyyy'), 0.0);\n"
    }
   ],
   "source": [
    "CADC = 'values (\\''+str(df6.ACCOUNT_NUMBER[k])+'\\''+', '+'\\''+str(df6.BRANCH_CODE[k])+'\\''+', '+'\\''+str(df6.COMPONENT_NAME[k])+'\\''+', '+'to_date(\\''+str(\"{:02d}\".format(int(df6.COMPOUNDING_DATE[k].day)))+'-'+str(\"{:02d}\".format(int(df6.COMPOUNDING_DATE[k].month)))+'-'+str(\"{:04d}\".format(int(df6.COMPOUNDING_DATE[k].year)))+'\\', \\'dd-mm-yyyy\\')'+', '+'to_date(\\''+str(\"{:02d}\".format(int(df6.SCHEDULE_ST_DATE[k].day)))+'-'+str(\"{:02d}\".format(int(df6.SCHEDULE_ST_DATE[k].month)))+'-'+str(\"{:04d}\".format(int(df6.SCHEDULE_ST_DATE[k].year)))+'\\', \\'dd-mm-yyyy\\')'+', '+(\"null\" if str(df6.AMOUNT[k]) == str(nan) else str(df6.AMOUNT[k]))+');'\n",
    "\n",
    "print(CADC)"
   ]
  },
  {
   "cell_type": "code",
   "execution_count": null,
   "metadata": {},
   "outputs": [],
   "source": []
  }
 ],
 "metadata": {
  "language_info": {
   "codemirror_mode": {
    "name": "ipython",
    "version": 3
   },
   "file_extension": ".py",
   "mimetype": "text/x-python",
   "name": "python",
   "nbconvert_exporter": "python",
   "pygments_lexer": "ipython3",
   "version": "3.8.2-final"
  },
  "orig_nbformat": 2,
  "kernelspec": {
   "name": "python38232bit5338d3b532ed43289af7a5f903678c2b",
   "display_name": "Python 3.8.2 32-bit"
  }
 },
 "nbformat": 4,
 "nbformat_minor": 2
}