{
 "cells": [
  {
   "cell_type": "code",
   "execution_count": 1,
   "metadata": {},
   "outputs": [],
   "source": [
    "import pandas as pd\n",
    "from numpy import nan\n",
    "path_file = \"39130001272.xlsx\"\n",
    "hoja = \"CLTB_ACCOUNT_COMP_SCH\"\n",
    "df = pd.read_excel(path_file,sheet_name=hoja)"
   ]
  },
  {
   "cell_type": "code",
   "execution_count": 2,
   "metadata": {},
   "outputs": [
    {
     "output_type": "stream",
     "name": "stdout",
     "text": ", '39130001272'\n, '39130001272'\n, 39130001272\n, to_date('02-04-2019', 'dd-mm-yyyy')\n, to_date('02-04-2019', 'dd-mm-yyyy')\n"
    }
   ],
   "source": [
    "a = ', '+'\\''+str(df.ACCOUNT_NUMBER[h])+'\\''  \n",
    "b = ', '+(\"null\" if str(df.ACCOUNT_NUMBER[h]) == str(nan) else '\\''+str(df.ACCOUNT_NUMBER[h])+'\\'')\n",
    "c = ', '+(\"null\" if str(df.ACCOUNT_NUMBER[h]) == str(nan) else str(df.ACCOUNT_NUMBER[h]))\n",
    "d = ', '+'to_date(\\''+str(\"{:02d}\".format(int(df.SCH_START_DATE[h].day)))+'-'+str(\"{:02d}\".format(int(df.SCH_START_DATE[h].month)))+'-'+str(\"{:04d}\".format(int(df.SCH_START_DATE[h].year)))+'\\', \\'dd-mm-yyyy\\')'\n",
    "e = ', '+(\"null\" if str(df.SCH_START_DATE[h]) == 'NaT' else 'to_date(\\''+str(\"{:02d}\".format(int(df.SCH_START_DATE[h].day)))+'-'+str(\"{:02d}\".format(int(df.SCH_START_DATE[h].month)))+'-'+str(\"{:04d}\".format(int(df.SCH_START_DATE[h].year)))+'\\', \\'dd-mm-yyyy\\')')\n",
    "\n",
    "\n",
    "print(a)\n",
    "print(b)\n",
    "print(c)\n",
    "print(d)\n",
    "print(e)"
   ]
  },
  {
   "cell_type": "code",
   "execution_count": 19,
   "metadata": {},
   "outputs": [
    {
     "output_type": "stream",
     "name": "stdout",
     "text": "values ('39130001272', '391', 'AA_COMVT', 'P', 'N', 'AA_COMVT_FRM_1', to_date('02-04-2019', 'dd-mm-yyyy'), 59, 1, 'M', to_date('02-03-2024', 'dd-mm-yyyy'), null, null, null, null, null, null, null, 'N', to_date('17-05-2019', 'dd-mm-yyyy'), 'N', null, null, null, null, null, 1.0, 1.0, null, null, null, null, null, null);\n"
    }
   ],
   "source": [
    "SCH = 'values (\\''+str(df4.ACCOUNT_NUMBER[g])+'\\''+', '+'\\''+str(df4.BRANCH_CODE[g])+'\\''+', '+'\\''+str(df4.COMPONENT_NAME[g])+'\\''+', '+'\\''+str(df4.SCHEDULE_TYPE[g])+'\\''+', '+'\\''+str(df4.SCHEDULE_FLAG[g])+'\\''+', '+(\"null\" if str(df4.FORMULA_NAME[g]) == str(nan) else '\\''+str(df4.FORMULA_NAME[g])+'\\'')+', '+'to_date(\\''+str(\"{:02d}\".format(int(df4.SCH_START_DATE[g].day)))+'-'+str(\"{:02d}\".format(int(df4.SCH_START_DATE[g].month)))+'-'+str(\"{:04d}\".format(int(df4.SCH_START_DATE[g].year)))+'\\', \\'dd-mm-yyyy\\')'+', '+(\"null\" if str(df4.NO_OF_SCHEDULES[g]) == str(nan) else str(df4.NO_OF_SCHEDULES[g]))+', '+(\"null\" if str(df4.FREQUENCY[g]) == str(nan) else str(df4.FREQUENCY[g]))+', '+(\"null\" if str(df4.UNIT[g]) == str(nan) else '\\''+str(df4.UNIT[g])+'\\'')+', '+'to_date(\\''+str(\"{:02d}\".format(int(df4.SCH_START_DATE[g].day)))+'-'+str(\"{:02d}\".format(int(df4.SCH_END_DATE[g].month)))+'-'+str(\"{:04d}\".format(int(df4.SCH_END_DATE[g].year)))+'\\', \\'dd-mm-yyyy\\')'+', '+(\"null\" if str(df4.AMOUNT[g]) == str(nan) else str(df4.AMOUNT[g]))+', '+(\"null\" if str(df4.PAYMENT_MODE[g]) == str(nan) else str(df4.PAYMENT_MODE[g]))+', '+(\"null\" if str(df4.PMNT_PROD_AC[g]) == str(nan) else str(df4.PMNT_PROD_AC[g]))+', '+(\"null\" if str(df4.PAYMENT_DETAILS[g]) == str(nan) else str(df4.PAYMENT_DETAILS[g]))+', '+(\"null\" if str(df4.BEN_ACCOUNT[g]) == str(nan) else str(df4.BEN_ACCOUNT[g]))+', '+(\"null\" if str(df4.BEN_BANK[g]) == str(nan) else str(df4.BEN_BANK[g]))+', '+(\"null\" if str(df4.BEN_NAME[g]) == str(nan) else str(df4.BEN_NAME[g]))+', '+(\"null\" if str(df4.CAPITALIZED[g]) == str(nan) else '\\''+str(df4.CAPITALIZED[g])+'\\'')+', '+'to_date(\\''+str(\"{:02d}\".format(int(df4.FIRST_DUE_DATE[g].day)))+'-'+str(\"{:02d}\".format(int(df4.FIRST_DUE_DATE[g].month)))+'-'+str(\"{:04d}\".format(int(df4.FIRST_DUE_DATE[g].year)))+'\\', \\'dd-mm-yyyy\\')'+', '+(\"null\" if str(df4.WAIVER_FLAG[g]) == str(nan) else '\\''+str(df4.WAIVER_FLAG[g])+'\\'')+', '+(\"null\" if str(df4.COMPOUND_DAYS[g]) == str(nan) else str(df4.COMPOUND_DAYS[g]))+', '+(\"null\" if str(df4.COMPOUND_MONTHS[g]) == str(nan) else str(df4.COMPOUND_MONTHS[g]))+', '+(\"null\" if str(df4.COMPOUND_YEARS[g]) == str(nan) else str(df4.COMPOUND_YEARS[g]))+', '+(\"null\" if str(df4.EMI_AMOUNT[g]) == str(nan) else str(df4.EMI_AMOUNT[g]))+', '+(\"null\" if str(df4.DUE_DATES_ON[g]) == str(nan) else str(df4.DUE_DATES_ON[g]))+', '+(\"null\" if str(df4.DAYS_MTH[g]) == str(nan) else str(df4.DAYS_MTH[g]))+', '+(\"null\" if str(df4.DAYS_YEAR[g]) == str(nan) else str(df4.DAYS_YEAR[g]))+', '+(\"null\" if str(df4.DP_AMOUNT[g]) == str(nan) else str(df4.DP_AMOUNT[g]))+', '+(\"null\" if str(df4.PAY_MODE[g]) == str(nan) else str(df4.PAY_MODE[g]))+', '+(\"null\" if str(df4.PAYABLE_ACC[g]) == str(nan) else str(df4.PAYABLE_ACC[g]))+', '+(\"null\" if str(df4.EXCH_RATE[g]) == str(nan) else str(df4.EXCH_RATE[g]))+', '+(\"null\" if str(df4.PAYABLE_ACC_CCY[g]) == str(nan) else str(df4.PAYABLE_ACC_CCY[g]))+', '+(\"null\" if str(df4.EMI_AS_PERCENTAGE_SALARY[g]) == str(nan) else str(df4.EMI_AS_PERCENTAGE_SALARY[g]))+');'\n",
    "\n",
    "print(SCH)"
   ]
  },
  {
   "cell_type": "code",
   "execution_count": 7,
   "metadata": {},
   "outputs": [],
   "source": [
    "#values ('39130001272', '391', 'AA_COMVT', 'P', 'N', 'AA_COMVT_FRM_1', to_date('02-04-2019', 'dd-mm-yyyy'), 59, 1, 'M', to_date('18-03-2024', 'dd-mm-yyyy'), null, null, null, null, null, null, null, 'N', to_date('17-05-2019', 'dd-mm-yyyy'), 'N', null, null, null, null, null, '1', '1', null, null, null, null, null, null);"
   ]
  },
  {
   "cell_type": "code",
   "execution_count": null,
   "metadata": {},
   "outputs": [],
   "source": []
  }
 ],
 "metadata": {
  "language_info": {
   "codemirror_mode": {
    "name": "ipython",
    "version": 3
   },
   "file_extension": ".py",
   "mimetype": "text/x-python",
   "name": "python",
   "nbconvert_exporter": "python",
   "pygments_lexer": "ipython3",
   "version": "3.8.2-final"
  },
  "orig_nbformat": 2,
  "kernelspec": {
   "name": "python38232bit5338d3b532ed43289af7a5f903678c2b",
   "display_name": "Python 3.8.2 32-bit"
  }
 },
 "nbformat": 4,
 "nbformat_minor": 2
}